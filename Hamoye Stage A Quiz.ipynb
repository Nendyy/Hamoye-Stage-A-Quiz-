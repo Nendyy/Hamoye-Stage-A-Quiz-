{
 "cells": [
  {
   "cell_type": "markdown",
   "id": "ebe47c57",
   "metadata": {},
   "source": [
    "<h2 style='text-align: center;'> Hamoye Stage A Quiz Questions </h2>"
   ]
  },
  {
   "cell_type": "code",
   "execution_count": 1,
   "id": "31c135dd",
   "metadata": {},
   "outputs": [
    {
     "data": {
      "text/html": [
       "<div>\n",
       "<style scoped>\n",
       "    .dataframe tbody tr th:only-of-type {\n",
       "        vertical-align: middle;\n",
       "    }\n",
       "\n",
       "    .dataframe tbody tr th {\n",
       "        vertical-align: top;\n",
       "    }\n",
       "\n",
       "    .dataframe thead th {\n",
       "        text-align: right;\n",
       "    }\n",
       "</style>\n",
       "<table border=\"1\" class=\"dataframe\">\n",
       "  <thead>\n",
       "    <tr style=\"text-align: right;\">\n",
       "      <th></th>\n",
       "      <th>Area Code</th>\n",
       "      <th>Area</th>\n",
       "      <th>Item Code</th>\n",
       "      <th>Item</th>\n",
       "      <th>Element Code</th>\n",
       "      <th>Element</th>\n",
       "      <th>Unit</th>\n",
       "      <th>Y2014</th>\n",
       "      <th>Y2015</th>\n",
       "      <th>Y2016</th>\n",
       "      <th>Y2017</th>\n",
       "      <th>Y2018</th>\n",
       "    </tr>\n",
       "  </thead>\n",
       "  <tbody>\n",
       "    <tr>\n",
       "      <th>0</th>\n",
       "      <td>4</td>\n",
       "      <td>Algeria</td>\n",
       "      <td>2501</td>\n",
       "      <td>Population</td>\n",
       "      <td>511</td>\n",
       "      <td>Total Population - Both sexes</td>\n",
       "      <td>1000 persons</td>\n",
       "      <td>38924.00</td>\n",
       "      <td>39728.00</td>\n",
       "      <td>40551.00</td>\n",
       "      <td>41389.00</td>\n",
       "      <td>42228.00</td>\n",
       "    </tr>\n",
       "    <tr>\n",
       "      <th>1</th>\n",
       "      <td>4</td>\n",
       "      <td>Algeria</td>\n",
       "      <td>2501</td>\n",
       "      <td>Population</td>\n",
       "      <td>5301</td>\n",
       "      <td>Domestic supply quantity</td>\n",
       "      <td>1000 tonnes</td>\n",
       "      <td>0.00</td>\n",
       "      <td>0.00</td>\n",
       "      <td>0.00</td>\n",
       "      <td>0.00</td>\n",
       "      <td>0.00</td>\n",
       "    </tr>\n",
       "    <tr>\n",
       "      <th>2</th>\n",
       "      <td>4</td>\n",
       "      <td>Algeria</td>\n",
       "      <td>2901</td>\n",
       "      <td>Grand Total</td>\n",
       "      <td>664</td>\n",
       "      <td>Food supply (kcal/capita/day)</td>\n",
       "      <td>kcal/capita/day</td>\n",
       "      <td>3377.00</td>\n",
       "      <td>3379.00</td>\n",
       "      <td>3372.00</td>\n",
       "      <td>3341.00</td>\n",
       "      <td>3322.00</td>\n",
       "    </tr>\n",
       "    <tr>\n",
       "      <th>3</th>\n",
       "      <td>4</td>\n",
       "      <td>Algeria</td>\n",
       "      <td>2901</td>\n",
       "      <td>Grand Total</td>\n",
       "      <td>674</td>\n",
       "      <td>Protein supply quantity (g/capita/day)</td>\n",
       "      <td>g/capita/day</td>\n",
       "      <td>94.90</td>\n",
       "      <td>94.35</td>\n",
       "      <td>94.72</td>\n",
       "      <td>92.82</td>\n",
       "      <td>91.83</td>\n",
       "    </tr>\n",
       "    <tr>\n",
       "      <th>4</th>\n",
       "      <td>4</td>\n",
       "      <td>Algeria</td>\n",
       "      <td>2901</td>\n",
       "      <td>Grand Total</td>\n",
       "      <td>684</td>\n",
       "      <td>Fat supply quantity (g/capita/day)</td>\n",
       "      <td>g/capita/day</td>\n",
       "      <td>80.06</td>\n",
       "      <td>79.36</td>\n",
       "      <td>77.40</td>\n",
       "      <td>80.19</td>\n",
       "      <td>77.28</td>\n",
       "    </tr>\n",
       "  </tbody>\n",
       "</table>\n",
       "</div>"
      ],
      "text/plain": [
       "   Area Code     Area  Item Code         Item  Element Code  \\\n",
       "0          4  Algeria       2501   Population           511   \n",
       "1          4  Algeria       2501   Population          5301   \n",
       "2          4  Algeria       2901  Grand Total           664   \n",
       "3          4  Algeria       2901  Grand Total           674   \n",
       "4          4  Algeria       2901  Grand Total           684   \n",
       "\n",
       "                                  Element             Unit     Y2014  \\\n",
       "0           Total Population - Both sexes     1000 persons  38924.00   \n",
       "1                Domestic supply quantity      1000 tonnes      0.00   \n",
       "2           Food supply (kcal/capita/day)  kcal/capita/day   3377.00   \n",
       "3  Protein supply quantity (g/capita/day)     g/capita/day     94.90   \n",
       "4      Fat supply quantity (g/capita/day)     g/capita/day     80.06   \n",
       "\n",
       "      Y2015     Y2016     Y2017     Y2018  \n",
       "0  39728.00  40551.00  41389.00  42228.00  \n",
       "1      0.00      0.00      0.00      0.00  \n",
       "2   3379.00   3372.00   3341.00   3322.00  \n",
       "3     94.35     94.72     92.82     91.83  \n",
       "4     79.36     77.40     80.19     77.28  "
      ]
     },
     "execution_count": 1,
     "metadata": {},
     "output_type": "execute_result"
    }
   ],
   "source": [
    "# importing the pandas library and reading the dataset to a dataframe\n",
    "import pandas as pd\n",
    "data = pd.read_csv('FoodBalanceSheets_E_Africa_NOFLAG.csv', encoding = 'latin-1')\n",
    "data.head()"
   ]
  },
  {
   "cell_type": "code",
   "execution_count": 2,
   "id": "1483049a",
   "metadata": {},
   "outputs": [
    {
     "data": {
      "text/plain": [
       "(60943, 12)"
      ]
     },
     "execution_count": 2,
     "metadata": {},
     "output_type": "execute_result"
    }
   ],
   "source": [
    "data.shape"
   ]
  },
  {
   "cell_type": "code",
   "execution_count": 3,
   "id": "b1152d7e",
   "metadata": {},
   "outputs": [
    {
     "data": {
      "text/html": [
       "<div>\n",
       "<style scoped>\n",
       "    .dataframe tbody tr th:only-of-type {\n",
       "        vertical-align: middle;\n",
       "    }\n",
       "\n",
       "    .dataframe tbody tr th {\n",
       "        vertical-align: top;\n",
       "    }\n",
       "\n",
       "    .dataframe thead th {\n",
       "        text-align: right;\n",
       "    }\n",
       "</style>\n",
       "<table border=\"1\" class=\"dataframe\">\n",
       "  <thead>\n",
       "    <tr style=\"text-align: right;\">\n",
       "      <th></th>\n",
       "      <th>Area Code</th>\n",
       "      <th>Area</th>\n",
       "      <th>Item Code</th>\n",
       "      <th>Item</th>\n",
       "      <th>Element Code</th>\n",
       "      <th>Element</th>\n",
       "      <th>Unit</th>\n",
       "      <th>Y2014</th>\n",
       "      <th>Y2015</th>\n",
       "      <th>Y2016</th>\n",
       "      <th>Y2017</th>\n",
       "      <th>Y2018</th>\n",
       "    </tr>\n",
       "  </thead>\n",
       "  <tbody>\n",
       "    <tr>\n",
       "      <th>55514</th>\n",
       "      <td>226</td>\n",
       "      <td>Uganda</td>\n",
       "      <td>2542</td>\n",
       "      <td>Sugar (Raw Equivalent)</td>\n",
       "      <td>5911</td>\n",
       "      <td>Export Quantity</td>\n",
       "      <td>1000 tonnes</td>\n",
       "      <td>127.00</td>\n",
       "      <td>132.00</td>\n",
       "      <td>166.00</td>\n",
       "      <td>136.00</td>\n",
       "      <td>174.00</td>\n",
       "    </tr>\n",
       "    <tr>\n",
       "      <th>46345</th>\n",
       "      <td>193</td>\n",
       "      <td>Sao Tome and Principe</td>\n",
       "      <td>2576</td>\n",
       "      <td>Palmkernel Oil</td>\n",
       "      <td>684</td>\n",
       "      <td>Fat supply quantity (g/capita/day)</td>\n",
       "      <td>g/capita/day</td>\n",
       "      <td>5.70</td>\n",
       "      <td>5.74</td>\n",
       "      <td>5.72</td>\n",
       "      <td>5.73</td>\n",
       "      <td>5.74</td>\n",
       "    </tr>\n",
       "    <tr>\n",
       "      <th>10580</th>\n",
       "      <td>37</td>\n",
       "      <td>Central African Republic</td>\n",
       "      <td>2732</td>\n",
       "      <td>Mutton &amp; Goat Meat</td>\n",
       "      <td>5511</td>\n",
       "      <td>Production</td>\n",
       "      <td>1000 tonnes</td>\n",
       "      <td>24.00</td>\n",
       "      <td>25.00</td>\n",
       "      <td>28.00</td>\n",
       "      <td>28.00</td>\n",
       "      <td>27.00</td>\n",
       "    </tr>\n",
       "    <tr>\n",
       "      <th>27794</th>\n",
       "      <td>114</td>\n",
       "      <td>Kenya</td>\n",
       "      <td>2922</td>\n",
       "      <td>Stimulants</td>\n",
       "      <td>664</td>\n",
       "      <td>Food supply (kcal/capita/day)</td>\n",
       "      <td>kcal/capita/day</td>\n",
       "      <td>3.00</td>\n",
       "      <td>3.00</td>\n",
       "      <td>4.00</td>\n",
       "      <td>4.00</td>\n",
       "      <td>4.00</td>\n",
       "    </tr>\n",
       "    <tr>\n",
       "      <th>36192</th>\n",
       "      <td>137</td>\n",
       "      <td>Mauritius</td>\n",
       "      <td>2516</td>\n",
       "      <td>Oats</td>\n",
       "      <td>684</td>\n",
       "      <td>Fat supply quantity (g/capita/day)</td>\n",
       "      <td>g/capita/day</td>\n",
       "      <td>0.05</td>\n",
       "      <td>0.05</td>\n",
       "      <td>0.07</td>\n",
       "      <td>0.09</td>\n",
       "      <td>0.08</td>\n",
       "    </tr>\n",
       "    <tr>\n",
       "      <th>7186</th>\n",
       "      <td>35</td>\n",
       "      <td>Cabo Verde</td>\n",
       "      <td>2558</td>\n",
       "      <td>Rape and Mustardseed</td>\n",
       "      <td>5170</td>\n",
       "      <td>Residuals</td>\n",
       "      <td>1000 tonnes</td>\n",
       "      <td>0.00</td>\n",
       "      <td>0.00</td>\n",
       "      <td>0.00</td>\n",
       "      <td>0.00</td>\n",
       "      <td>0.00</td>\n",
       "    </tr>\n",
       "    <tr>\n",
       "      <th>8187</th>\n",
       "      <td>32</td>\n",
       "      <td>Cameroon</td>\n",
       "      <td>2517</td>\n",
       "      <td>Millet and products</td>\n",
       "      <td>5527</td>\n",
       "      <td>Seed</td>\n",
       "      <td>1000 tonnes</td>\n",
       "      <td>4.00</td>\n",
       "      <td>4.00</td>\n",
       "      <td>4.00</td>\n",
       "      <td>4.00</td>\n",
       "      <td>4.00</td>\n",
       "    </tr>\n",
       "    <tr>\n",
       "      <th>40996</th>\n",
       "      <td>147</td>\n",
       "      <td>Namibia</td>\n",
       "      <td>2615</td>\n",
       "      <td>Bananas</td>\n",
       "      <td>664</td>\n",
       "      <td>Food supply (kcal/capita/day)</td>\n",
       "      <td>kcal/capita/day</td>\n",
       "      <td>2.00</td>\n",
       "      <td>3.00</td>\n",
       "      <td>2.00</td>\n",
       "      <td>2.00</td>\n",
       "      <td>2.00</td>\n",
       "    </tr>\n",
       "    <tr>\n",
       "      <th>20996</th>\n",
       "      <td>74</td>\n",
       "      <td>Gabon</td>\n",
       "      <td>2575</td>\n",
       "      <td>Cottonseed Oil</td>\n",
       "      <td>5611</td>\n",
       "      <td>Import Quantity</td>\n",
       "      <td>1000 tonnes</td>\n",
       "      <td>0.00</td>\n",
       "      <td>0.00</td>\n",
       "      <td>0.00</td>\n",
       "      <td>0.00</td>\n",
       "      <td>0.00</td>\n",
       "    </tr>\n",
       "    <tr>\n",
       "      <th>2940</th>\n",
       "      <td>53</td>\n",
       "      <td>Benin</td>\n",
       "      <td>2535</td>\n",
       "      <td>Yams</td>\n",
       "      <td>674</td>\n",
       "      <td>Protein supply quantity (g/capita/day)</td>\n",
       "      <td>g/capita/day</td>\n",
       "      <td>6.62</td>\n",
       "      <td>6.63</td>\n",
       "      <td>6.85</td>\n",
       "      <td>6.86</td>\n",
       "      <td>7.06</td>\n",
       "    </tr>\n",
       "  </tbody>\n",
       "</table>\n",
       "</div>"
      ],
      "text/plain": [
       "       Area Code                      Area  Item Code                    Item  \\\n",
       "55514        226                    Uganda       2542  Sugar (Raw Equivalent)   \n",
       "46345        193     Sao Tome and Principe       2576          Palmkernel Oil   \n",
       "10580         37  Central African Republic       2732      Mutton & Goat Meat   \n",
       "27794        114                     Kenya       2922              Stimulants   \n",
       "36192        137                 Mauritius       2516                    Oats   \n",
       "7186          35                Cabo Verde       2558    Rape and Mustardseed   \n",
       "8187          32                  Cameroon       2517     Millet and products   \n",
       "40996        147                   Namibia       2615                 Bananas   \n",
       "20996         74                     Gabon       2575          Cottonseed Oil   \n",
       "2940          53                     Benin       2535                    Yams   \n",
       "\n",
       "       Element Code                                 Element             Unit  \\\n",
       "55514          5911                         Export Quantity      1000 tonnes   \n",
       "46345           684      Fat supply quantity (g/capita/day)     g/capita/day   \n",
       "10580          5511                              Production      1000 tonnes   \n",
       "27794           664           Food supply (kcal/capita/day)  kcal/capita/day   \n",
       "36192           684      Fat supply quantity (g/capita/day)     g/capita/day   \n",
       "7186           5170                               Residuals      1000 tonnes   \n",
       "8187           5527                                    Seed      1000 tonnes   \n",
       "40996           664           Food supply (kcal/capita/day)  kcal/capita/day   \n",
       "20996          5611                         Import Quantity      1000 tonnes   \n",
       "2940            674  Protein supply quantity (g/capita/day)     g/capita/day   \n",
       "\n",
       "        Y2014   Y2015   Y2016   Y2017   Y2018  \n",
       "55514  127.00  132.00  166.00  136.00  174.00  \n",
       "46345    5.70    5.74    5.72    5.73    5.74  \n",
       "10580   24.00   25.00   28.00   28.00   27.00  \n",
       "27794    3.00    3.00    4.00    4.00    4.00  \n",
       "36192    0.05    0.05    0.07    0.09    0.08  \n",
       "7186     0.00    0.00    0.00    0.00    0.00  \n",
       "8187     4.00    4.00    4.00    4.00    4.00  \n",
       "40996    2.00    3.00    2.00    2.00    2.00  \n",
       "20996    0.00    0.00    0.00    0.00    0.00  \n",
       "2940     6.62    6.63    6.85    6.86    7.06  "
      ]
     },
     "execution_count": 3,
     "metadata": {},
     "output_type": "execute_result"
    }
   ],
   "source": [
    "# random sampling of the dataset\n",
    "data.sample(10)"
   ]
  },
  {
   "cell_type": "code",
   "execution_count": 4,
   "id": "ebea747f",
   "metadata": {},
   "outputs": [
    {
     "data": {
      "text/html": [
       "<div>\n",
       "<style scoped>\n",
       "    .dataframe tbody tr th:only-of-type {\n",
       "        vertical-align: middle;\n",
       "    }\n",
       "\n",
       "    .dataframe tbody tr th {\n",
       "        vertical-align: top;\n",
       "    }\n",
       "\n",
       "    .dataframe thead th {\n",
       "        text-align: right;\n",
       "    }\n",
       "</style>\n",
       "<table border=\"1\" class=\"dataframe\">\n",
       "  <thead>\n",
       "    <tr style=\"text-align: right;\">\n",
       "      <th></th>\n",
       "      <th>Area Code</th>\n",
       "      <th>Item Code</th>\n",
       "      <th>Element Code</th>\n",
       "      <th>Y2014</th>\n",
       "      <th>Y2015</th>\n",
       "      <th>Y2016</th>\n",
       "      <th>Y2017</th>\n",
       "      <th>Y2018</th>\n",
       "    </tr>\n",
       "  </thead>\n",
       "  <tbody>\n",
       "    <tr>\n",
       "      <th>count</th>\n",
       "      <td>60943.000000</td>\n",
       "      <td>60943.000000</td>\n",
       "      <td>60943.000000</td>\n",
       "      <td>59354.000000</td>\n",
       "      <td>59395.000000</td>\n",
       "      <td>59408.000000</td>\n",
       "      <td>59437.000000</td>\n",
       "      <td>59507.000000</td>\n",
       "    </tr>\n",
       "    <tr>\n",
       "      <th>mean</th>\n",
       "      <td>134.265576</td>\n",
       "      <td>2687.176706</td>\n",
       "      <td>3814.856456</td>\n",
       "      <td>134.196282</td>\n",
       "      <td>135.235966</td>\n",
       "      <td>136.555222</td>\n",
       "      <td>140.917765</td>\n",
       "      <td>143.758381</td>\n",
       "    </tr>\n",
       "    <tr>\n",
       "      <th>std</th>\n",
       "      <td>72.605709</td>\n",
       "      <td>146.055739</td>\n",
       "      <td>2212.007033</td>\n",
       "      <td>1567.663696</td>\n",
       "      <td>1603.403984</td>\n",
       "      <td>1640.007194</td>\n",
       "      <td>1671.862359</td>\n",
       "      <td>1710.782658</td>\n",
       "    </tr>\n",
       "    <tr>\n",
       "      <th>min</th>\n",
       "      <td>4.000000</td>\n",
       "      <td>2501.000000</td>\n",
       "      <td>511.000000</td>\n",
       "      <td>-1796.000000</td>\n",
       "      <td>-3161.000000</td>\n",
       "      <td>-3225.000000</td>\n",
       "      <td>-1582.000000</td>\n",
       "      <td>-3396.000000</td>\n",
       "    </tr>\n",
       "    <tr>\n",
       "      <th>25%</th>\n",
       "      <td>74.000000</td>\n",
       "      <td>2562.000000</td>\n",
       "      <td>684.000000</td>\n",
       "      <td>0.000000</td>\n",
       "      <td>0.000000</td>\n",
       "      <td>0.000000</td>\n",
       "      <td>0.000000</td>\n",
       "      <td>0.000000</td>\n",
       "    </tr>\n",
       "    <tr>\n",
       "      <th>50%</th>\n",
       "      <td>136.000000</td>\n",
       "      <td>2630.000000</td>\n",
       "      <td>5142.000000</td>\n",
       "      <td>0.090000</td>\n",
       "      <td>0.080000</td>\n",
       "      <td>0.080000</td>\n",
       "      <td>0.100000</td>\n",
       "      <td>0.070000</td>\n",
       "    </tr>\n",
       "    <tr>\n",
       "      <th>75%</th>\n",
       "      <td>195.000000</td>\n",
       "      <td>2775.000000</td>\n",
       "      <td>5511.000000</td>\n",
       "      <td>8.340000</td>\n",
       "      <td>8.460000</td>\n",
       "      <td>8.430000</td>\n",
       "      <td>9.000000</td>\n",
       "      <td>9.000000</td>\n",
       "    </tr>\n",
       "    <tr>\n",
       "      <th>max</th>\n",
       "      <td>276.000000</td>\n",
       "      <td>2961.000000</td>\n",
       "      <td>5911.000000</td>\n",
       "      <td>176405.000000</td>\n",
       "      <td>181137.000000</td>\n",
       "      <td>185960.000000</td>\n",
       "      <td>190873.000000</td>\n",
       "      <td>195875.000000</td>\n",
       "    </tr>\n",
       "  </tbody>\n",
       "</table>\n",
       "</div>"
      ],
      "text/plain": [
       "          Area Code     Item Code  Element Code          Y2014          Y2015  \\\n",
       "count  60943.000000  60943.000000  60943.000000   59354.000000   59395.000000   \n",
       "mean     134.265576   2687.176706   3814.856456     134.196282     135.235966   \n",
       "std       72.605709    146.055739   2212.007033    1567.663696    1603.403984   \n",
       "min        4.000000   2501.000000    511.000000   -1796.000000   -3161.000000   \n",
       "25%       74.000000   2562.000000    684.000000       0.000000       0.000000   \n",
       "50%      136.000000   2630.000000   5142.000000       0.090000       0.080000   \n",
       "75%      195.000000   2775.000000   5511.000000       8.340000       8.460000   \n",
       "max      276.000000   2961.000000   5911.000000  176405.000000  181137.000000   \n",
       "\n",
       "               Y2016          Y2017          Y2018  \n",
       "count   59408.000000   59437.000000   59507.000000  \n",
       "mean      136.555222     140.917765     143.758381  \n",
       "std      1640.007194    1671.862359    1710.782658  \n",
       "min     -3225.000000   -1582.000000   -3396.000000  \n",
       "25%         0.000000       0.000000       0.000000  \n",
       "50%         0.080000       0.100000       0.070000  \n",
       "75%         8.430000       9.000000       9.000000  \n",
       "max    185960.000000  190873.000000  195875.000000  "
      ]
     },
     "execution_count": 4,
     "metadata": {},
     "output_type": "execute_result"
    }
   ],
   "source": [
    "# gettingsome descriptive statistics for each numerical column\n",
    "data.describe()"
   ]
  },
  {
   "cell_type": "code",
   "execution_count": 5,
   "id": "2535abc3",
   "metadata": {},
   "outputs": [
    {
     "data": {
      "text/plain": [
       "array(['Total Population - Both sexes', 'Domestic supply quantity',\n",
       "       'Food supply (kcal/capita/day)',\n",
       "       'Protein supply quantity (g/capita/day)',\n",
       "       'Fat supply quantity (g/capita/day)', 'Production',\n",
       "       'Import Quantity', 'Stock Variation', 'Export Quantity', 'Feed',\n",
       "       'Seed', 'Losses', 'Processing', 'Other uses (non-food)',\n",
       "       'Residuals', 'Food', 'Food supply quantity (kg/capita/yr)',\n",
       "       'Tourist consumption'], dtype=object)"
      ]
     },
     "execution_count": 5,
     "metadata": {},
     "output_type": "execute_result"
    }
   ],
   "source": [
    "# getting the unique values in the Element column\n",
    "data['Element'].unique()"
   ]
  },
  {
   "cell_type": "code",
   "execution_count": 6,
   "id": "aa7b3b24",
   "metadata": {},
   "outputs": [
    {
     "data": {
      "text/plain": [
       "array(['Population', 'Grand Total', 'Vegetal Products', 'Animal Products',\n",
       "       'Cereals - Excluding Beer', 'Wheat and products',\n",
       "       'Rice and products', 'Barley and products', 'Maize and products',\n",
       "       'Rye and products', 'Oats', 'Millet and products',\n",
       "       'Sorghum and products', 'Cereals, Other', 'Starchy Roots',\n",
       "       'Cassava and products', 'Potatoes and products', 'Sweet potatoes',\n",
       "       'Yams', 'Roots, Other', 'Sugar Crops', 'Sugar cane', 'Sugar beet',\n",
       "       'Sugar & Sweeteners', 'Sugar (Raw Equivalent)',\n",
       "       'Sweeteners, Other', 'Honey', 'Pulses', 'Beans', 'Peas',\n",
       "       'Pulses, Other and products', 'Treenuts', 'Nuts and products',\n",
       "       'Oilcrops', 'Soyabeans', 'Groundnuts (Shelled Eq)',\n",
       "       'Sunflower seed', 'Rape and Mustardseed', 'Cottonseed',\n",
       "       'Coconuts - Incl Copra', 'Sesame seed',\n",
       "       'Olives (including preserved)', 'Oilcrops, Other',\n",
       "       'Vegetable Oils', 'Soyabean Oil', 'Groundnut Oil',\n",
       "       'Sunflowerseed Oil', 'Rape and Mustard Oil', 'Cottonseed Oil',\n",
       "       'Palmkernel Oil', 'Palm Oil', 'Coconut Oil', 'Sesameseed Oil',\n",
       "       'Olive Oil', 'Maize Germ Oil', 'Oilcrops Oil, Other', 'Vegetables',\n",
       "       'Tomatoes and products', 'Onions', 'Vegetables, Other',\n",
       "       'Fruits - Excluding Wine', 'Oranges, Mandarines',\n",
       "       'Lemons, Limes and products', 'Grapefruit and products',\n",
       "       'Citrus, Other', 'Bananas', 'Plantains', 'Apples and products',\n",
       "       'Pineapples and products', 'Dates',\n",
       "       'Grapes and products (excl wine)', 'Fruits, Other', 'Stimulants',\n",
       "       'Coffee and products', 'Cocoa Beans and products',\n",
       "       'Tea (including mate)', 'Spices', 'Pepper', 'Pimento', 'Cloves',\n",
       "       'Spices, Other', 'Alcoholic Beverages', 'Wine', 'Beer',\n",
       "       'Beverages, Fermented', 'Beverages, Alcoholic',\n",
       "       'Alcohol, Non-Food', 'Meat', 'Bovine Meat', 'Mutton & Goat Meat',\n",
       "       'Pigmeat', 'Poultry Meat', 'Meat, Other', 'Offals',\n",
       "       'Offals, Edible', 'Animal fats', 'Butter, Ghee', 'Cream',\n",
       "       'Fats, Animals, Raw', 'Fish, Body Oil', 'Fish, Liver Oil', 'Eggs',\n",
       "       'Milk - Excluding Butter', 'Fish, Seafood', 'Freshwater Fish',\n",
       "       'Demersal Fish', 'Pelagic Fish', 'Marine Fish, Other',\n",
       "       'Crustaceans', 'Cephalopods', 'Molluscs, Other',\n",
       "       'Aquatic Products, Other', 'Aquatic Animals, Others',\n",
       "       'Aquatic Plants', 'Miscellaneous', 'Infant food',\n",
       "       'Sugar non-centrifugal', 'Palm kernels', 'Ricebran Oil'],\n",
       "      dtype=object)"
      ]
     },
     "execution_count": 6,
     "metadata": {},
     "output_type": "execute_result"
    }
   ],
   "source": [
    "# getting the unique values in the Item column\n",
    "data['Item'].unique()"
   ]
  },
  {
   "cell_type": "markdown",
   "id": "f4e3a036",
   "metadata": {},
   "source": [
    "### Answering the quiz questions"
   ]
  },
  {
   "cell_type": "markdown",
   "id": "ebfab0e6",
   "metadata": {},
   "source": [
    "> What is the total sum of wine produced in 2015 and 2018 respectively?"
   ]
  },
  {
   "cell_type": "code",
   "execution_count": 7,
   "id": "5961d428",
   "metadata": {},
   "outputs": [
    {
     "name": "stdout",
     "output_type": "stream",
     "text": [
      "The total sum of wine produced in 2015 is 4251.81\n",
      "The total sum of wine produced in 2018 is 4039.32\n"
     ]
    }
   ],
   "source": [
    "# performing a groupby sum aggregation on the item column \n",
    "selected_columns = data.groupby('Item').sum().loc['Wine']\n",
    "wine_2015 = selected_columns.iloc[4]\n",
    "wine_2018 = selected_columns.iloc[7]\n",
    "print('The total sum of wine produced in 2015 is', (wine_2015))\n",
    "print('The total sum of wine produced in 2018 is', (wine_2018))"
   ]
  },
  {
   "cell_type": "markdown",
   "id": "63f7aa30",
   "metadata": {},
   "source": [
    "> What is the total number and percentage of missing data in 2014 to 3 decimal places"
   ]
  },
  {
   "cell_type": "code",
   "execution_count": 8,
   "id": "497ca05b",
   "metadata": {},
   "outputs": [
    {
     "name": "stdout",
     "output_type": "stream",
     "text": [
      "total number of missing data for 2014: 1589\n",
      "percentage of missing data for 2014: 2.607 %\n"
     ]
    }
   ],
   "source": [
    "missing_count = data['Y2014'].isnull().sum()\n",
    "total_count = len(data)\n",
    "missing_percentage = (missing_count / total_count) * 100\n",
    "print('total number of missing data for 2014:', (missing_count))\n",
    "print('percentage of missing data for 2014:', round((missing_percentage), 3), '%')"
   ]
  },
  {
   "cell_type": "markdown",
   "id": "b4523dc5",
   "metadata": {},
   "source": [
    "> What is the total number of unique countries in the dataset?"
   ]
  },
  {
   "cell_type": "code",
   "execution_count": 9,
   "id": "12a9dfad",
   "metadata": {},
   "outputs": [
    {
     "name": "stdout",
     "output_type": "stream",
     "text": [
      "There are 49 unique countries\n"
     ]
    }
   ],
   "source": [
    "unique_countries = data['Area'].nunique()\n",
    "print('There are', (unique_countries), 'unique countries')"
   ]
  },
  {
   "cell_type": "markdown",
   "id": "a048dd12",
   "metadata": {},
   "source": [
    "> What is the mean and standard deviation across the whole dataset for the year 2017 to 2 decimal places"
   ]
  },
  {
   "cell_type": "code",
   "execution_count": 10,
   "id": "38694c4f",
   "metadata": {},
   "outputs": [
    {
     "name": "stdout",
     "output_type": "stream",
     "text": [
      "2017 mean = 140.92\n",
      "2017 standard deviation = 1671.86\n"
     ]
    }
   ],
   "source": [
    "print('2017 mean = ' + str(round(data['Y2017'].mean(), 2)))  \n",
    "print('2017 standard deviation = ' + str(round(data['Y2017'].std(), 2)))"
   ]
  },
  {
   "cell_type": "markdown",
   "id": "0c6f5eb8",
   "metadata": {},
   "source": [
    "> Select columns 'Y2017' and 'Area', perform a groupby operation on area. Which of these areas had the highest sum in 2017?"
   ]
  },
  {
   "cell_type": "code",
   "execution_count": 11,
   "id": "0dc19eed",
   "metadata": {},
   "outputs": [
    {
     "name": "stdout",
     "output_type": "stream",
     "text": [
      "The area with the highest sum in 2017 is Nigeria\n"
     ]
    }
   ],
   "source": [
    "selected_columns = data[['Y2017', 'Area']]\n",
    "grouped_data = selected_columns.groupby('Area')['Y2017'].sum()\n",
    "area_with_highest_sum = grouped_data.idxmax()\n",
    "print('The area with the highest sum in 2017 is', (area_with_highest_sum))"
   ]
  },
  {
   "cell_type": "markdown",
   "id": "24c3085a",
   "metadata": {},
   "source": [
    "> What is the total Protein supply quantity in Madagascar in 2015?"
   ]
  },
  {
   "cell_type": "code",
   "execution_count": 12,
   "id": "56c3c7d0",
   "metadata": {},
   "outputs": [
    {
     "name": "stdout",
     "output_type": "stream",
     "text": [
      "The total protein supply for Madagascar in 2015 is 173.05\n"
     ]
    }
   ],
   "source": [
    "madagascar_2015 = data[(data['Area'] == 'Madagascar') & (data['Element'] == 'Protein supply quantity (g/capita/day)')]['Y2015']\n",
    "total_protein_supply = madagascar_2015.sum()\n",
    "print('The total protein supply for Madagascar in 2015 is', round((total_protein_supply), 2))"
   ]
  },
  {
   "cell_type": "markdown",
   "id": "9e5af001",
   "metadata": {},
   "source": [
    "> Which year had the least correlation with 'Element Code'?"
   ]
  },
  {
   "cell_type": "code",
   "execution_count": 13,
   "id": "42379479",
   "metadata": {},
   "outputs": [
    {
     "name": "stdout",
     "output_type": "stream",
     "text": [
      "The year with the least correlation with \"Element Code\" is Y2016\n"
     ]
    }
   ],
   "source": [
    "correlations = data[['Element Code', 'Y2014', 'Y2015', 'Y2016', 'Y2017', 'Y2018']].corr()\n",
    "least_correlated_year = correlations['Element Code'].abs().idxmin()\n",
    "print('The year with the least correlation with \"Element Code\" is', (least_correlated_year)) "
   ]
  },
  {
   "cell_type": "markdown",
   "id": "418e61a5",
   "metadata": {},
   "source": [
    "> Perform a groupby operation on 'Element'. What is the total number of the sum of processing in 2017? "
   ]
  },
  {
   "cell_type": "code",
   "execution_count": 14,
   "id": "91f0bace",
   "metadata": {},
   "outputs": [
    {
     "name": "stdout",
     "output_type": "stream",
     "text": [
      "The sum of processing in 2017 is 292836.0\n"
     ]
    }
   ],
   "source": [
    "processing_2017 = data.groupby('Element').sum().loc['Processing']['Y2017']\n",
    "print('The sum of processing in 2017 is', (processing_2017))"
   ]
  },
  {
   "cell_type": "markdown",
   "id": "a0999cd0",
   "metadata": {},
   "source": [
    "> Select columns 'Y2017' and 'Area', perform a groupby operation on 'Area'. Which of these areas had the 7th lowest sum in 2017?"
   ]
  },
  {
   "cell_type": "code",
   "execution_count": 15,
   "id": "feb5e462",
   "metadata": {},
   "outputs": [
    {
     "name": "stdout",
     "output_type": "stream",
     "text": [
      "The area with the 7th lowest sum in 2017 is Guinea-Bissau\n"
     ]
    }
   ],
   "source": [
    "selected_columns = data[['Y2017', 'Area']]\n",
    "grouped_data = selected_columns.groupby('Area')['Y2017'].sum().reset_index()\n",
    "sorted_data = grouped_data.sort_values('Y2017')\n",
    "seventh_lowest_area = sorted_data.iloc[6]['Area']\n",
    "print('The area with the 7th lowest sum in 2017 is', (seventh_lowest_area))"
   ]
  },
  {
   "cell_type": "markdown",
   "id": "e828d2de",
   "metadata": {},
   "source": [
    "> Perform a groupby operation on 'Element'. What year has the highest sum of stock variaion?"
   ]
  },
  {
   "cell_type": "code",
   "execution_count": 16,
   "id": "8ba4e0e1",
   "metadata": {},
   "outputs": [
    {
     "name": "stdout",
     "output_type": "stream",
     "text": [
      "The year with the highest sum of stock variation is Y2014\n"
     ]
    }
   ],
   "source": [
    "stock_variation_sum = data[data['Element'] == 'Stock Variation'].groupby('Element')[['Y2014', 'Y2015', 'Y2016', 'Y2017', 'Y2018']].sum()\n",
    "highest_stock_variation_year = stock_variation_sum.idxmax(axis=1)[0]\n",
    "print('The year with the highest sum of stock variation is', (highest_stock_variation_year)) "
   ]
  }
 ],
 "metadata": {
  "kernelspec": {
   "display_name": "Python 3 (ipykernel)",
   "language": "python",
   "name": "python3"
  },
  "language_info": {
   "codemirror_mode": {
    "name": "ipython",
    "version": 3
   },
   "file_extension": ".py",
   "mimetype": "text/x-python",
   "name": "python",
   "nbconvert_exporter": "python",
   "pygments_lexer": "ipython3",
   "version": "3.9.12"
  }
 },
 "nbformat": 4,
 "nbformat_minor": 5
}
